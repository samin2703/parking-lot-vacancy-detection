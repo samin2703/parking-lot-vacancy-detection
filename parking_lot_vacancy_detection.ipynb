{
 "cells": [
  {
   "cell_type": "code",
   "execution_count": 1,
   "id": "1eaedf07-d9ef-45b5-a759-fb3a493075ad",
   "metadata": {},
   "outputs": [],
   "source": [
    "import os\n",
    "import pickle\n",
    "\n",
    "from skimage.io import imread\n",
    "from skimage.transform import resize\n",
    "import numpy as np\n",
    "from sklearn.model_selection import train_test_split\n",
    "from sklearn.model_selection import RandomizedSearchCV\n",
    "from sklearn.svm import SVC\n",
    "from sklearn.metrics import accuracy_score"
   ]
  },
  {
   "cell_type": "code",
   "execution_count": 3,
   "id": "50d34151-5948-4516-9c00-8ba7a24c37dd",
   "metadata": {},
   "outputs": [],
   "source": [
    "input_dir = 'F:/codespace/VSCode/clf-data'\n",
    "categories = ['empty', 'not_empty']\n"
   ]
  },
  {
   "cell_type": "code",
   "execution_count": 5,
   "id": "b0a949fa-4095-41ab-8888-f19953b917bc",
   "metadata": {},
   "outputs": [],
   "source": [
    "data = []\n",
    "labels = []\n",
    "\n",
    "for category_idx, category in enumerate(categories):\n",
    "    for file in os.listdir(os.path.join(input_dir, category)):\n",
    "        img_path = os.path.join(input_dir, category, file)\n",
    "        img = imread(img_path)\n",
    "        img = resize(img, (15, 15))\n",
    "        data.append(img.flatten())\n",
    "        labels.append(category_idx)\n",
    "\n",
    "data = np.asarray(data)\n",
    "labels = np.asarray(labels)"
   ]
  },
  {
   "cell_type": "code",
   "execution_count": 6,
   "id": "3ea561a3-649e-4473-86e9-8963cc1eb0d2",
   "metadata": {},
   "outputs": [],
   "source": [
    "x_train, x_test, y_train, y_test = train_test_split(data,\n",
    "                                                    labels,\n",
    "                                                    test_size=0.2,\n",
    "                                                    shuffle=True,\n",
    "                                                    stratify=labels)"
   ]
  },
  {
   "cell_type": "code",
   "execution_count": 7,
   "id": "ee770b99-191e-435e-b94e-4eb9542feb2f",
   "metadata": {},
   "outputs": [
    {
     "data": {
      "text/plain": [
       "(675,)"
      ]
     },
     "execution_count": 7,
     "metadata": {},
     "output_type": "execute_result"
    }
   ],
   "source": [
    "x_test[0].shape"
   ]
  },
  {
   "cell_type": "code",
   "execution_count": 8,
   "id": "28708af2-c2f6-4ede-965d-6e2102d6550f",
   "metadata": {},
   "outputs": [
    {
     "data": {
      "text/plain": [
       "(675,)"
      ]
     },
     "execution_count": 8,
     "metadata": {},
     "output_type": "execute_result"
    }
   ],
   "source": [
    "x_train[0].shape"
   ]
  },
  {
   "cell_type": "code",
   "execution_count": 9,
   "id": "f1e0ae54-0bb6-4e98-b86b-3a02d88d825d",
   "metadata": {},
   "outputs": [],
   "source": [
    "classifier = SVC()"
   ]
  },
  {
   "cell_type": "code",
   "execution_count": 10,
   "id": "e9fe7719-fbe0-4c12-851f-56d47704c28b",
   "metadata": {},
   "outputs": [],
   "source": [
    "parammeters = [{'gamma': [0.01, 0.001, 0.0001], 'C': [1, 10, 100, 1000]}]\n",
    "\n",
    "rand_search = RandomizedSearchCV(classifier, parammeters)\n",
    "\n",
    "rand_search.fit(x_train, y_train)\n",
    "\n",
    "best_estimator = rand_search.best_estimator_"
   ]
  },
  {
   "cell_type": "code",
   "execution_count": 11,
   "id": "ead714e8-7036-4808-8a87-c1e1fb764776",
   "metadata": {},
   "outputs": [
    {
     "name": "stdout",
     "output_type": "stream",
     "text": [
      "Accuracy: 100.0 %\n"
     ]
    }
   ],
   "source": [
    "y_prediction = best_estimator.predict(x_test)\n",
    "\n",
    "score = accuracy_score(y_prediction, y_test)\n",
    "\n",
    "print(f'Accuracy: {score*100} %')"
   ]
  },
  {
   "cell_type": "code",
   "execution_count": 12,
   "id": "2c17e8c8-4a4e-4f19-86f2-e5d65b30f538",
   "metadata": {},
   "outputs": [],
   "source": [
    "pickle.dump(best_estimator, open('./model.p', 'wb'))"
   ]
  },
  {
   "cell_type": "code",
   "execution_count": 13,
   "id": "b106943d-277e-4cf6-a12e-840a06434cd9",
   "metadata": {},
   "outputs": [],
   "source": [
    "model = pickle.load(open('./model.p', 'rb'))\n"
   ]
  },
  {
   "cell_type": "code",
   "execution_count": 14,
   "id": "9a4befa9-cbfa-4e75-8159-7a089ac11358",
   "metadata": {},
   "outputs": [],
   "source": [
    "test_image_path = \"F:/codespace/VSCode/carParkLot/car.jpg\"\n",
    "\n",
    "img = imread(test_image_path)\n",
    "img_resized = resize(img, (15, 15)).flatten()\n",
    "img_resized = img_resized.reshape(1, -1)\n"
   ]
  },
  {
   "cell_type": "code",
   "execution_count": 15,
   "id": "1dd3c665-5344-4043-ae2c-a01c5e65352e",
   "metadata": {},
   "outputs": [
    {
     "name": "stdout",
     "output_type": "stream",
     "text": [
      "The parking area is: not_empty\n"
     ]
    }
   ],
   "source": [
    "prediction = model.predict(img_resized)\n",
    "\n",
    "categories = ['empty', 'not_empty']\n",
    "result = categories[prediction[0]]\n",
    "\n",
    "print(f'The parking area is: {result}')"
   ]
  },
  {
   "cell_type": "code",
   "execution_count": null,
   "id": "d5f985de-3c66-4585-9377-f7dfaabb34b8",
   "metadata": {},
   "outputs": [],
   "source": []
  },
  {
   "cell_type": "code",
   "execution_count": null,
   "id": "d0d733f0-0425-443f-aeb3-b74a28d60946",
   "metadata": {},
   "outputs": [],
   "source": []
  },
  {
   "cell_type": "code",
   "execution_count": null,
   "id": "d96a3618-b54f-4359-b4a8-ce859aa77646",
   "metadata": {},
   "outputs": [],
   "source": []
  },
  {
   "cell_type": "code",
   "execution_count": null,
   "id": "55682a27-03c3-4f19-82e6-97f09a590cc5",
   "metadata": {},
   "outputs": [],
   "source": []
  },
  {
   "cell_type": "code",
   "execution_count": null,
   "id": "e4acdf8e-e4e1-47e1-a0a1-be627d3d440e",
   "metadata": {},
   "outputs": [],
   "source": []
  },
  {
   "cell_type": "code",
   "execution_count": null,
   "id": "233e6592-8679-4a75-af28-b0a4c5fe3544",
   "metadata": {},
   "outputs": [],
   "source": []
  },
  {
   "cell_type": "code",
   "execution_count": null,
   "id": "aa21957f-e87b-4e05-83f8-deef6a47cd65",
   "metadata": {},
   "outputs": [],
   "source": []
  },
  {
   "cell_type": "code",
   "execution_count": null,
   "id": "b6996a91-d7d0-4536-a6df-bbb3511abf26",
   "metadata": {},
   "outputs": [],
   "source": []
  },
  {
   "cell_type": "code",
   "execution_count": null,
   "id": "8e8747d4-1b2e-47f2-8394-606f51a6a174",
   "metadata": {},
   "outputs": [],
   "source": []
  }
 ],
 "metadata": {
  "kernelspec": {
   "display_name": "Python 3 (ipykernel)",
   "language": "python",
   "name": "python3"
  },
  "language_info": {
   "codemirror_mode": {
    "name": "ipython",
    "version": 3
   },
   "file_extension": ".py",
   "mimetype": "text/x-python",
   "name": "python",
   "nbconvert_exporter": "python",
   "pygments_lexer": "ipython3",
   "version": "3.12.4"
  }
 },
 "nbformat": 4,
 "nbformat_minor": 5
}
